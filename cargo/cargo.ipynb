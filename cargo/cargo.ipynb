{
 "cells": [
  {
   "cell_type": "code",
   "execution_count": 56,
   "metadata": {},
   "outputs": [],
   "source": [
    "import pandas as pd\n",
    "import numpy as np \n",
    "import seaborn as sns\n",
    "import matplotlib.pyplot as plt \n"
   ]
  },
  {
   "cell_type": "code",
   "execution_count": 19,
   "metadata": {},
   "outputs": [],
   "source": [
    "# import LAX Cargo Csv as cargo_df\n",
    "cargo_df = pd.read_csv(r'/Users/isaganijulian/Downloads/LAX_Cargo.csv')"
   ]
  },
  {
   "cell_type": "code",
   "execution_count": 20,
   "metadata": {},
   "outputs": [
    {
     "name": "stdout",
     "output_type": "stream",
     "text": [
      "                Extract_Date Report_Period Arrival_Departure  \\\n",
      "0     04/09/2021 10:34:29 AM      Sep 2020           Arrival   \n",
      "1     04/09/2021 10:34:29 AM      Feb 2021           Arrival   \n",
      "2     04/09/2021 10:34:29 AM      Aug 2020           Arrival   \n",
      "3     04/09/2021 10:34:29 AM      Jan 2021           Arrival   \n",
      "4     04/09/2021 10:34:29 AM      Nov 2020           Arrival   \n",
      "...                      ...           ...               ...   \n",
      "1707  08/01/2023 12:00:18 AM      Jun 2023           Arrival   \n",
      "1708  08/01/2023 12:00:18 AM      Jun 2023         Departure   \n",
      "1709  08/01/2023 12:00:18 AM      Jun 2023         Departure   \n",
      "1710  08/01/2023 12:00:18 AM      Jun 2023           Arrival   \n",
      "1711  08/01/2023 12:00:18 AM      Jun 2023           Arrival   \n",
      "\n",
      "     Domestic_International Cargo_Type   Tons  \n",
      "0             International    Freight  86595  \n",
      "1             International    Freight  78931  \n",
      "2             International    Freight  81369  \n",
      "3             International    Freight  82958  \n",
      "4             International    Freight  96096  \n",
      "...                     ...        ...    ...  \n",
      "1707               Domestic       Mail   1566  \n",
      "1708               Domestic       Mail   3428  \n",
      "1709          International       Mail    427  \n",
      "1710               Domestic    Freight  33229  \n",
      "1711          International       Mail    815  \n",
      "\n",
      "[1712 rows x 6 columns]\n"
     ]
    }
   ],
   "source": [
    "# Define dictionary to map old to new column names\n",
    "column_name_mapping = { \n",
    "'DataExtractDate' : 'Extract_Date', \n",
    "'ReportPeriod' : 'Report_Period', \n",
    "'Cargo_Type ' : 'Cargo_Type', \n",
    "'AirCargoTons' : 'Tons'\n",
    "}\n",
    "\n",
    "#rename\n",
    "cargo_df.rename(columns=column_name_mapping, inplace=True)\n",
    "\n",
    "print(cargo_df)\n"
   ]
  },
  {
   "cell_type": "code",
   "execution_count": 21,
   "metadata": {},
   "outputs": [
    {
     "name": "stdout",
     "output_type": "stream",
     "text": [
      "                              Extract_Date   Report_Period Arrival_Departure  \\\n",
      "0       2021, April 09, Friday 10:34:29 AM  2020,September           Arrival   \n",
      "1       2021, April 09, Friday 10:34:29 AM   2021,February           Arrival   \n",
      "2       2021, April 09, Friday 10:34:29 AM     2020,August           Arrival   \n",
      "3       2021, April 09, Friday 10:34:29 AM    2021,January           Arrival   \n",
      "4       2021, April 09, Friday 10:34:29 AM   2020,November           Arrival   \n",
      "...                                    ...             ...               ...   \n",
      "1707  2023, August 01, Tuesday 12:00:18 AM       2023,June           Arrival   \n",
      "1708  2023, August 01, Tuesday 12:00:18 AM       2023,June         Departure   \n",
      "1709  2023, August 01, Tuesday 12:00:18 AM       2023,June         Departure   \n",
      "1710  2023, August 01, Tuesday 12:00:18 AM       2023,June           Arrival   \n",
      "1711  2023, August 01, Tuesday 12:00:18 AM       2023,June           Arrival   \n",
      "\n",
      "     Domestic_International Cargo_Type   Tons  \n",
      "0             International    Freight  86595  \n",
      "1             International    Freight  78931  \n",
      "2             International    Freight  81369  \n",
      "3             International    Freight  82958  \n",
      "4             International    Freight  96096  \n",
      "...                     ...        ...    ...  \n",
      "1707               Domestic       Mail   1566  \n",
      "1708               Domestic       Mail   3428  \n",
      "1709          International       Mail    427  \n",
      "1710               Domestic    Freight  33229  \n",
      "1711          International       Mail    815  \n",
      "\n",
      "[1712 rows x 6 columns]\n"
     ]
    }
   ],
   "source": [
    "import pandas as pd \n",
    "from datetime import datetime \n",
    "\n",
    "# Convert the Extract_Date original format date \n",
    "cargo_df['Extract_Date'] = pd.to_datetime(cargo_df['Extract_Date'], format='%m/%d/%Y %I:%M:%S %p')\n",
    "\n",
    "# Convert to desired format\n",
    "cargo_df['Extract_Date'] = cargo_df['Extract_Date'].dt.strftime('%Y, %B %d, %A %I:%M:%S %p')\n",
    "\n",
    "# Convert for Report_Period\n",
    "cargo_df['Report_Period'] = pd.to_datetime(cargo_df['Report_Period'], format='%b %Y')\n",
    "\n",
    "# Convert to desired format\n",
    "cargo_df['Report_Period'] = cargo_df['Report_Period'].dt.strftime('%Y,%B')\n",
    "\n",
    "print(cargo_df)\n"
   ]
  },
  {
   "cell_type": "code",
   "execution_count": 28,
   "metadata": {},
   "outputs": [
    {
     "name": "stdout",
     "output_type": "stream",
     "text": [
      "Summary Statistics:\n",
      "                Tons\n",
      "count    1712.000000\n",
      "mean    22752.660047\n",
      "std     23527.090982\n",
      "min       330.000000\n",
      "25%      1657.750000\n",
      "50%     14916.000000\n",
      "75%     38419.750000\n",
      "max    105462.000000\n",
      "\n",
      "Unique Value Counts:\n",
      "Extract_Date                84\n",
      "Report_Period              214\n",
      "Arrival_Departure            2\n",
      "Domestic_International       2\n",
      "Cargo_Type                   2\n",
      "Tons                      1616\n",
      "dtype: int64\n",
      "\n",
      "Data Types:\n",
      "Extract_Date              object\n",
      "Report_Period             object\n",
      "Arrival_Departure         object\n",
      "Domestic_International    object\n",
      "Cargo_Type                object\n",
      "Tons                       int64\n",
      "dtype: object\n",
      "\n",
      "Missing Values:\n",
      "Extract_Date              0\n",
      "Report_Period             0\n",
      "Arrival_Departure         0\n",
      "Domestic_International    0\n",
      "Cargo_Type                0\n",
      "Tons                      0\n",
      "dtype: int64\n"
     ]
    }
   ],
   "source": [
    "# Display basic summary statistics\n",
    "summary_stats = cargo_df.describe()\n",
    "\n",
    "# Display the number of unique values in each column\n",
    "unique_counts = cargo_df.nunique()\n",
    "\n",
    "# Display the data types of each column\n",
    "data_types = cargo_df.dtypes\n",
    "\n",
    "# Display missing values count in each column\n",
    "missing_values = cargo_df.isnull().sum()\n",
    "\n",
    "# Display summary statistics\n",
    "print(\"Summary Statistics:\")\n",
    "print(summary_stats)\n",
    "\n",
    "# Display unique value counts\n",
    "print(\"\\nUnique Value Counts:\")\n",
    "print(unique_counts)\n",
    "\n",
    "# Display data types\n",
    "print(\"\\nData Types:\")\n",
    "print(data_types)\n",
    "\n",
    "# Display missing values\n",
    "print(\"\\nMissing Values:\")\n",
    "print(missing_values)\n",
    "\n",
    "\n"
   ]
  },
  {
   "cell_type": "code",
   "execution_count": 22,
   "metadata": {},
   "outputs": [
    {
     "data": {
      "text/html": [
       "<div>\n",
       "<style scoped>\n",
       "    .dataframe tbody tr th:only-of-type {\n",
       "        vertical-align: middle;\n",
       "    }\n",
       "\n",
       "    .dataframe tbody tr th {\n",
       "        vertical-align: top;\n",
       "    }\n",
       "\n",
       "    .dataframe thead th {\n",
       "        text-align: right;\n",
       "    }\n",
       "</style>\n",
       "<table border=\"1\" class=\"dataframe\">\n",
       "  <thead>\n",
       "    <tr style=\"text-align: right;\">\n",
       "      <th></th>\n",
       "      <th>Extract_Date</th>\n",
       "      <th>Report_Period</th>\n",
       "      <th>Arrival_Departure</th>\n",
       "      <th>Domestic_International</th>\n",
       "      <th>Cargo_Type</th>\n",
       "      <th>Tons</th>\n",
       "    </tr>\n",
       "  </thead>\n",
       "  <tbody>\n",
       "    <tr>\n",
       "      <th>0</th>\n",
       "      <td>2021, April 09, Friday 10:34:29 AM</td>\n",
       "      <td>2020,September</td>\n",
       "      <td>Arrival</td>\n",
       "      <td>International</td>\n",
       "      <td>Freight</td>\n",
       "      <td>86595</td>\n",
       "    </tr>\n",
       "    <tr>\n",
       "      <th>1</th>\n",
       "      <td>2021, April 09, Friday 10:34:29 AM</td>\n",
       "      <td>2021,February</td>\n",
       "      <td>Arrival</td>\n",
       "      <td>International</td>\n",
       "      <td>Freight</td>\n",
       "      <td>78931</td>\n",
       "    </tr>\n",
       "    <tr>\n",
       "      <th>2</th>\n",
       "      <td>2021, April 09, Friday 10:34:29 AM</td>\n",
       "      <td>2020,August</td>\n",
       "      <td>Arrival</td>\n",
       "      <td>International</td>\n",
       "      <td>Freight</td>\n",
       "      <td>81369</td>\n",
       "    </tr>\n",
       "    <tr>\n",
       "      <th>3</th>\n",
       "      <td>2021, April 09, Friday 10:34:29 AM</td>\n",
       "      <td>2021,January</td>\n",
       "      <td>Arrival</td>\n",
       "      <td>International</td>\n",
       "      <td>Freight</td>\n",
       "      <td>82958</td>\n",
       "    </tr>\n",
       "    <tr>\n",
       "      <th>4</th>\n",
       "      <td>2021, April 09, Friday 10:34:29 AM</td>\n",
       "      <td>2020,November</td>\n",
       "      <td>Arrival</td>\n",
       "      <td>International</td>\n",
       "      <td>Freight</td>\n",
       "      <td>96096</td>\n",
       "    </tr>\n",
       "    <tr>\n",
       "      <th>...</th>\n",
       "      <td>...</td>\n",
       "      <td>...</td>\n",
       "      <td>...</td>\n",
       "      <td>...</td>\n",
       "      <td>...</td>\n",
       "      <td>...</td>\n",
       "    </tr>\n",
       "    <tr>\n",
       "      <th>1707</th>\n",
       "      <td>2023, August 01, Tuesday 12:00:18 AM</td>\n",
       "      <td>2023,June</td>\n",
       "      <td>Arrival</td>\n",
       "      <td>Domestic</td>\n",
       "      <td>Mail</td>\n",
       "      <td>1566</td>\n",
       "    </tr>\n",
       "    <tr>\n",
       "      <th>1708</th>\n",
       "      <td>2023, August 01, Tuesday 12:00:18 AM</td>\n",
       "      <td>2023,June</td>\n",
       "      <td>Departure</td>\n",
       "      <td>Domestic</td>\n",
       "      <td>Mail</td>\n",
       "      <td>3428</td>\n",
       "    </tr>\n",
       "    <tr>\n",
       "      <th>1709</th>\n",
       "      <td>2023, August 01, Tuesday 12:00:18 AM</td>\n",
       "      <td>2023,June</td>\n",
       "      <td>Departure</td>\n",
       "      <td>International</td>\n",
       "      <td>Mail</td>\n",
       "      <td>427</td>\n",
       "    </tr>\n",
       "    <tr>\n",
       "      <th>1710</th>\n",
       "      <td>2023, August 01, Tuesday 12:00:18 AM</td>\n",
       "      <td>2023,June</td>\n",
       "      <td>Arrival</td>\n",
       "      <td>Domestic</td>\n",
       "      <td>Freight</td>\n",
       "      <td>33229</td>\n",
       "    </tr>\n",
       "    <tr>\n",
       "      <th>1711</th>\n",
       "      <td>2023, August 01, Tuesday 12:00:18 AM</td>\n",
       "      <td>2023,June</td>\n",
       "      <td>Arrival</td>\n",
       "      <td>International</td>\n",
       "      <td>Mail</td>\n",
       "      <td>815</td>\n",
       "    </tr>\n",
       "  </tbody>\n",
       "</table>\n",
       "<p>1712 rows × 6 columns</p>\n",
       "</div>"
      ],
      "text/plain": [
       "                              Extract_Date   Report_Period Arrival_Departure  \\\n",
       "0       2021, April 09, Friday 10:34:29 AM  2020,September           Arrival   \n",
       "1       2021, April 09, Friday 10:34:29 AM   2021,February           Arrival   \n",
       "2       2021, April 09, Friday 10:34:29 AM     2020,August           Arrival   \n",
       "3       2021, April 09, Friday 10:34:29 AM    2021,January           Arrival   \n",
       "4       2021, April 09, Friday 10:34:29 AM   2020,November           Arrival   \n",
       "...                                    ...             ...               ...   \n",
       "1707  2023, August 01, Tuesday 12:00:18 AM       2023,June           Arrival   \n",
       "1708  2023, August 01, Tuesday 12:00:18 AM       2023,June         Departure   \n",
       "1709  2023, August 01, Tuesday 12:00:18 AM       2023,June         Departure   \n",
       "1710  2023, August 01, Tuesday 12:00:18 AM       2023,June           Arrival   \n",
       "1711  2023, August 01, Tuesday 12:00:18 AM       2023,June           Arrival   \n",
       "\n",
       "     Domestic_International Cargo_Type   Tons  \n",
       "0             International    Freight  86595  \n",
       "1             International    Freight  78931  \n",
       "2             International    Freight  81369  \n",
       "3             International    Freight  82958  \n",
       "4             International    Freight  96096  \n",
       "...                     ...        ...    ...  \n",
       "1707               Domestic       Mail   1566  \n",
       "1708               Domestic       Mail   3428  \n",
       "1709          International       Mail    427  \n",
       "1710               Domestic    Freight  33229  \n",
       "1711          International       Mail    815  \n",
       "\n",
       "[1712 rows x 6 columns]"
      ]
     },
     "execution_count": 22,
     "metadata": {},
     "output_type": "execute_result"
    }
   ],
   "source": [
    "cargo_df\n"
   ]
  },
  {
   "cell_type": "code",
   "execution_count": 69,
   "metadata": {},
   "outputs": [],
   "source": [
    "cargo_df.to_csv('cargo_df.csv', index=False)"
   ]
  },
  {
   "cell_type": "code",
   "execution_count": 49,
   "metadata": {},
   "outputs": [
    {
     "name": "stdout",
     "output_type": "stream",
     "text": [
      "<class 'pandas.core.frame.DataFrame'>\n",
      "RangeIndex: 1712 entries, 0 to 1711\n",
      "Data columns (total 6 columns):\n",
      " #   Column                  Non-Null Count  Dtype \n",
      "---  ------                  --------------  ----- \n",
      " 0   Extract_Date            1712 non-null   object\n",
      " 1   Report_Period           1712 non-null   object\n",
      " 2   Arrival_Departure       1712 non-null   object\n",
      " 3   Domestic_International  1712 non-null   object\n",
      " 4   Cargo_Type              1712 non-null   object\n",
      " 5   Tons                    1712 non-null   int64 \n",
      "dtypes: int64(1), object(5)\n",
      "memory usage: 80.4+ KB\n"
     ]
    }
   ],
   "source": [
    "cargo_df.info() "
   ]
  },
  {
   "cell_type": "code",
   "execution_count": 50,
   "metadata": {},
   "outputs": [
    {
     "data": {
      "image/png": "[encoded data removed]",
      "text/plain": [
       "<Figure size 1600x600 with 1 Axes>"
      ]
     },
     "metadata": {},
     "output_type": "display_data"
    }
   ],
   "source": [
    "cargo_df.plot(kind=\"hist\", y=\"Tons\", figsize=(16, 6), bins=30, density=True)\n",
    "plt.xlabel(\"Tons\")\n",
    "plt.ylabel('Probability')\n",
    "plt.show()"
   ]
  },
  {
   "cell_type": "markdown",
   "metadata": {},
   "source": [
    "The Extract Date column was dropped, the Report_Period data type was changed to datetime, while the rest of the categories data types were changed to categories except for the Tons column. "
   ]
  },
  {
   "cell_type": "code",
   "execution_count": 185,
   "metadata": {},
   "outputs": [],
   "source": [
    "cargo_df=cargo_df.drop([\"Extract_Date\"], axis=1)"
   ]
  },
  {
   "cell_type": "code",
   "execution_count": 186,
   "metadata": {},
   "outputs": [
    {
     "name": "stderr",
     "output_type": "stream",
     "text": [
      "/var/folders/cp/wjt9yn4d1mvbjrvvv6c8176w0000gn/T/ipykernel_42848/1692204034.py:1: UserWarning: Could not infer format, so each element will be parsed individually, falling back to `dateutil`. To ensure parsing is consistent and as-expected, please specify a format.\n",
      "  cargo_df.Report_Period= pd.to_datetime(cargo_df.Report_Period)\n"
     ]
    }
   ],
   "source": [
    "cargo_df.Report_Period= pd.to_datetime(cargo_df.Report_Period)\n",
    "cargo_df[\"Arrival_Departure\"]=cargo_df[\"Arrival_Departure\"].astype(\"category\")\n",
    "cargo_df[\"Domestic_International\"]=cargo_df[\"Domestic_International\"].astype(\"category\")\n",
    "cargo_df[\"Cargo_Type\"]=cargo_df[\"Cargo_Type\"].astype(\"category\")\n",
    "\n"
   ]
  },
  {
   "cell_type": "code",
   "execution_count": 146,
   "metadata": {},
   "outputs": [
    {
     "data": {
      "text/plain": [
       "Report_Period             datetime64[ns]\n",
       "Arrival_Departure               category\n",
       "Domestic_International          category\n",
       "Cargo_Type                      category\n",
       "Tons                               int64\n",
       "dtype: object"
      ]
     },
     "execution_count": 146,
     "metadata": {},
     "output_type": "execute_result"
    }
   ],
   "source": [
    "cargo_df.dtypes"
   ]
  },
  {
   "cell_type": "markdown",
   "metadata": {},
   "source": [
    "Set Report_Period as the index"
   ]
  },
  {
   "cell_type": "code",
   "execution_count": 54,
   "metadata": {},
   "outputs": [
    {
     "data": {
      "text/html": [
       "<div>\n",
       "<style scoped>\n",
       "    .dataframe tbody tr th:only-of-type {\n",
       "        vertical-align: middle;\n",
       "    }\n",
       "\n",
       "    .dataframe tbody tr th {\n",
       "        vertical-align: top;\n",
       "    }\n",
       "\n",
       "    .dataframe thead th {\n",
       "        text-align: right;\n",
       "    }\n",
       "</style>\n",
       "<table border=\"1\" class=\"dataframe\">\n",
       "  <thead>\n",
       "    <tr style=\"text-align: right;\">\n",
       "      <th></th>\n",
       "      <th>Report_Period</th>\n",
       "      <th>Arrival_Departure</th>\n",
       "      <th>Domestic_International</th>\n",
       "      <th>Cargo_Type</th>\n",
       "      <th>Tons</th>\n",
       "    </tr>\n",
       "  </thead>\n",
       "  <tbody>\n",
       "    <tr>\n",
       "      <th>0</th>\n",
       "      <td>2020-09-01</td>\n",
       "      <td>Arrival</td>\n",
       "      <td>International</td>\n",
       "      <td>Freight</td>\n",
       "      <td>86595</td>\n",
       "    </tr>\n",
       "    <tr>\n",
       "      <th>1</th>\n",
       "      <td>2021-02-01</td>\n",
       "      <td>Arrival</td>\n",
       "      <td>International</td>\n",
       "      <td>Freight</td>\n",
       "      <td>78931</td>\n",
       "    </tr>\n",
       "    <tr>\n",
       "      <th>2</th>\n",
       "      <td>2020-08-01</td>\n",
       "      <td>Arrival</td>\n",
       "      <td>International</td>\n",
       "      <td>Freight</td>\n",
       "      <td>81369</td>\n",
       "    </tr>\n",
       "    <tr>\n",
       "      <th>3</th>\n",
       "      <td>2021-01-01</td>\n",
       "      <td>Arrival</td>\n",
       "      <td>International</td>\n",
       "      <td>Freight</td>\n",
       "      <td>82958</td>\n",
       "    </tr>\n",
       "    <tr>\n",
       "      <th>4</th>\n",
       "      <td>2020-11-01</td>\n",
       "      <td>Arrival</td>\n",
       "      <td>International</td>\n",
       "      <td>Freight</td>\n",
       "      <td>96096</td>\n",
       "    </tr>\n",
       "  </tbody>\n",
       "</table>\n",
       "</div>"
      ],
      "text/plain": [
       "  Report_Period Arrival_Departure Domestic_International Cargo_Type   Tons\n",
       "0    2020-09-01           Arrival          International    Freight  86595\n",
       "1    2021-02-01           Arrival          International    Freight  78931\n",
       "2    2020-08-01           Arrival          International    Freight  81369\n",
       "3    2021-01-01           Arrival          International    Freight  82958\n",
       "4    2020-11-01           Arrival          International    Freight  96096"
      ]
     },
     "execution_count": 54,
     "metadata": {},
     "output_type": "execute_result"
    }
   ],
   "source": [
    "cargo_df.head()"
   ]
  },
  {
   "cell_type": "code",
   "execution_count": 67,
   "metadata": {},
   "outputs": [
    {
     "data": {
      "text/html": [
       "<div>\n",
       "<style scoped>\n",
       "    .dataframe tbody tr th:only-of-type {\n",
       "        vertical-align: middle;\n",
       "    }\n",
       "\n",
       "    .dataframe tbody tr th {\n",
       "        vertical-align: top;\n",
       "    }\n",
       "\n",
       "    .dataframe thead th {\n",
       "        text-align: right;\n",
       "    }\n",
       "</style>\n",
       "<table border=\"1\" class=\"dataframe\">\n",
       "  <thead>\n",
       "    <tr style=\"text-align: right;\">\n",
       "      <th></th>\n",
       "      <th>Tons</th>\n",
       "    </tr>\n",
       "    <tr>\n",
       "      <th>Report_Period</th>\n",
       "      <th></th>\n",
       "    </tr>\n",
       "  </thead>\n",
       "  <tbody>\n",
       "    <tr>\n",
       "      <th>2006-12-31</th>\n",
       "      <td>21905.322917</td>\n",
       "    </tr>\n",
       "    <tr>\n",
       "      <th>2007-12-31</th>\n",
       "      <td>21232.083333</td>\n",
       "    </tr>\n",
       "    <tr>\n",
       "      <th>2008-12-31</th>\n",
       "      <td>18712.854167</td>\n",
       "    </tr>\n",
       "    <tr>\n",
       "      <th>2009-12-31</th>\n",
       "      <td>17332.718750</td>\n",
       "    </tr>\n",
       "    <tr>\n",
       "      <th>2010-12-31</th>\n",
       "      <td>20070.541667</td>\n",
       "    </tr>\n",
       "    <tr>\n",
       "      <th>2011-12-31</th>\n",
       "      <td>19475.020833</td>\n",
       "    </tr>\n",
       "    <tr>\n",
       "      <th>2012-12-31</th>\n",
       "      <td>20383.583333</td>\n",
       "    </tr>\n",
       "    <tr>\n",
       "      <th>2013-12-31</th>\n",
       "      <td>20131.729167</td>\n",
       "    </tr>\n",
       "    <tr>\n",
       "      <th>2014-12-31</th>\n",
       "      <td>20863.125000</td>\n",
       "    </tr>\n",
       "    <tr>\n",
       "      <th>2015-12-31</th>\n",
       "      <td>22306.718750</td>\n",
       "    </tr>\n",
       "    <tr>\n",
       "      <th>2016-12-31</th>\n",
       "      <td>23003.833333</td>\n",
       "    </tr>\n",
       "    <tr>\n",
       "      <th>2017-12-31</th>\n",
       "      <td>24903.031250</td>\n",
       "    </tr>\n",
       "    <tr>\n",
       "      <th>2018-12-31</th>\n",
       "      <td>25504.156250</td>\n",
       "    </tr>\n",
       "    <tr>\n",
       "      <th>2019-12-31</th>\n",
       "      <td>24100.187500</td>\n",
       "    </tr>\n",
       "    <tr>\n",
       "      <th>2020-12-31</th>\n",
       "      <td>25690.750000</td>\n",
       "    </tr>\n",
       "    <tr>\n",
       "      <th>2021-12-31</th>\n",
       "      <td>31031.718750</td>\n",
       "    </tr>\n",
       "    <tr>\n",
       "      <th>2022-12-31</th>\n",
       "      <td>28841.156250</td>\n",
       "    </tr>\n",
       "    <tr>\n",
       "      <th>2023-12-31</th>\n",
       "      <td>24320.687500</td>\n",
       "    </tr>\n",
       "  </tbody>\n",
       "</table>\n",
       "</div>"
      ],
      "text/plain": [
       "                       Tons\n",
       "Report_Period              \n",
       "2006-12-31     21905.322917\n",
       "2007-12-31     21232.083333\n",
       "2008-12-31     18712.854167\n",
       "2009-12-31     17332.718750\n",
       "2010-12-31     20070.541667\n",
       "2011-12-31     19475.020833\n",
       "2012-12-31     20383.583333\n",
       "2013-12-31     20131.729167\n",
       "2014-12-31     20863.125000\n",
       "2015-12-31     22306.718750\n",
       "2016-12-31     23003.833333\n",
       "2017-12-31     24903.031250\n",
       "2018-12-31     25504.156250\n",
       "2019-12-31     24100.187500\n",
       "2020-12-31     25690.750000\n",
       "2021-12-31     31031.718750\n",
       "2022-12-31     28841.156250\n",
       "2023-12-31     24320.687500"
      ]
     },
     "execution_count": 67,
     "metadata": {},
     "output_type": "execute_result"
    }
   ],
   "source": [
    "# Set index to datetime\n",
    "cargo_df.index = pd.to_datetime(cargo_df.index)\n",
    "\n",
    "# Exclude categorical columns from resampling\n",
    "resampled_df = cargo_df.select_dtypes(exclude=['category']).resample('A').mean()\n",
    "\n",
    "resampled_df"
   ]
  },
  {
   "cell_type": "code",
   "execution_count": 70,
   "metadata": {},
   "outputs": [
    {
     "data": {
      "text/plain": [
       "Text(0.5, 1.0, 'Average Air Cargo Tons According to Year')"
      ]
     },
     "execution_count": 70,
     "metadata": {},
     "output_type": "execute_result"
    },
    {
     "data": {
      "image/png": "[encoded data removed]",
      "text/plain": [
       "<Figure size 1200x700 with 1 Axes>"
      ]
     },
     "metadata": {},
     "output_type": "display_data"
    }
   ],
   "source": [
    "plt.figure(figsize=(12,7))\n",
    "plt.plot( cargo_df.select_dtypes(exclude=['category']).resample('A').mean(), color=\"b\",label= \"Average Cargo Tons\") \n",
    "plt.grid() \n",
    "plt.legend()\n",
    "plt.xlabel(\"Year\")\n",
    "plt.ylabel(\"Ton\")\n",
    "plt.title(\"Average Air Cargo Tons According to Year\")\n"
   ]
  },
  {
   "cell_type": "markdown",
   "metadata": {},
   "source": [
    "From the graph 2010 has the lowest count of tons for air travel, and starting from 2012 the average amount of tons for air travel seems to increse. There is a spike in average tons for air travel starting from 2020 to 2022. "
   ]
  },
  {
   "cell_type": "code",
   "execution_count": 74,
   "metadata": {},
   "outputs": [
    {
     "name": "stdout",
     "output_type": "stream",
     "text": [
      "Tons    14150.125\n",
      "dtype: float64\n",
      "Tons   2009-02-28\n",
      "dtype: datetime64[ns]\n"
     ]
    }
   ],
   "source": [
    "month = cargo_df.select_dtypes(exclude=['category']).resample('M').mean()\n",
    "\n",
    "# Minummum average tons and the datetime\n",
    "print(month.min())\n",
    "print(month.idxmin())\n",
    "\n"
   ]
  },
  {
   "cell_type": "code",
   "execution_count": 75,
   "metadata": {},
   "outputs": [
    {
     "name": "stdout",
     "output_type": "stream",
     "text": [
      "Tons    33078.5\n",
      "dtype: float64\n",
      "Tons   2021-03-31\n",
      "dtype: datetime64[ns]\n"
     ]
    }
   ],
   "source": [
    "# Max average tons and the datetime\n",
    "print(month.max())\n",
    "print(month.idxmax())"
   ]
  },
  {
   "cell_type": "code",
   "execution_count": 77,
   "metadata": {},
   "outputs": [
    {
     "data": {
      "image/png": "[encoded data removed]",
      "text/plain": [
       "<Figure size 1500x800 with 1 Axes>"
      ]
     },
     "metadata": {},
     "output_type": "display_data"
    }
   ],
   "source": [
    "plt.figure(figsize=(15,8))\n",
    "plt.plot(cargo_df.select_dtypes(exclude=['category']).resample('M').mean(),color=\"g\",label=\"Average Air Cargo Tons\",linewidth=2)\n",
    "plt.grid()\n",
    "plt.legend()\n",
    "plt.xlabel(\"Year\")\n",
    "plt.ylabel(\"Ton\")\n",
    "plt.title(\"Average Air Cargo Tons According To Months\")\n",
    "plt.show()"
   ]
  },
  {
   "cell_type": "markdown",
   "metadata": {},
   "source": [
    "This shows a more accurate graph basing the data on the months. We can see that the average amount of tons for air travel increases and decreases frequently throughout the years. During the year of 2019 we can see a dip in the cargo tons, which was the start of the pandemic. Once travel restrictions were lifted we can see an increase in the average tons for the air cargo. "
   ]
  },
  {
   "cell_type": "code",
   "execution_count": 184,
   "metadata": {},
   "outputs": [],
   "source": [
    "cargo_df = pd.read_csv(r'/Users/isaganijulian/Downloads/cargo_df.csv')\n"
   ]
  },
  {
   "cell_type": "code",
   "execution_count": 190,
   "metadata": {},
   "outputs": [],
   "source": [
    "data2=cargo_df.set_index([\"Report_Period\",\"Arrival_Departure\",\"Domestic_International\",\"Cargo_Type\"])"
   ]
  },
  {
   "cell_type": "code",
   "execution_count": 192,
   "metadata": {},
   "outputs": [
    {
     "name": "stdout",
     "output_type": "stream",
     "text": [
      "<class 'pandas.core.frame.DataFrame'>\n",
      "RangeIndex: 1712 entries, 0 to 1711\n",
      "Data columns (total 5 columns):\n",
      " #   Column                  Non-Null Count  Dtype         \n",
      "---  ------                  --------------  -----         \n",
      " 0   Report_Period           1712 non-null   datetime64[ns]\n",
      " 1   Arrival_Departure       1712 non-null   category      \n",
      " 2   Domestic_International  1712 non-null   category      \n",
      " 3   Cargo_Type              1712 non-null   category      \n",
      " 4   Tons                    1712 non-null   int64         \n",
      "dtypes: category(3), datetime64[ns](1), int64(1)\n",
      "memory usage: 32.3 KB\n"
     ]
    }
   ],
   "source": [
    "cargo_df.info()"
   ]
  },
  {
   "cell_type": "code",
   "execution_count": 191,
   "metadata": {},
   "outputs": [
    {
     "data": {
      "text/html": [
       "<div>\n",
       "<style scoped>\n",
       "    .dataframe tbody tr th:only-of-type {\n",
       "        vertical-align: middle;\n",
       "    }\n",
       "\n",
       "    .dataframe tbody tr th {\n",
       "        vertical-align: top;\n",
       "    }\n",
       "\n",
       "    .dataframe thead th {\n",
       "        text-align: right;\n",
       "    }\n",
       "</style>\n",
       "<table border=\"1\" class=\"dataframe\">\n",
       "  <thead>\n",
       "    <tr style=\"text-align: right;\">\n",
       "      <th></th>\n",
       "      <th></th>\n",
       "      <th></th>\n",
       "      <th></th>\n",
       "      <th>Tons</th>\n",
       "    </tr>\n",
       "    <tr>\n",
       "      <th>Report_Period</th>\n",
       "      <th>Arrival_Departure</th>\n",
       "      <th>Domestic_International</th>\n",
       "      <th>Cargo_Type</th>\n",
       "      <th></th>\n",
       "    </tr>\n",
       "  </thead>\n",
       "  <tbody>\n",
       "    <tr>\n",
       "      <th>2020-09-01</th>\n",
       "      <th>Arrival</th>\n",
       "      <th>International</th>\n",
       "      <th>Freight</th>\n",
       "      <td>86595</td>\n",
       "    </tr>\n",
       "    <tr>\n",
       "      <th>2021-02-01</th>\n",
       "      <th>Arrival</th>\n",
       "      <th>International</th>\n",
       "      <th>Freight</th>\n",
       "      <td>78931</td>\n",
       "    </tr>\n",
       "    <tr>\n",
       "      <th>2020-08-01</th>\n",
       "      <th>Arrival</th>\n",
       "      <th>International</th>\n",
       "      <th>Freight</th>\n",
       "      <td>81369</td>\n",
       "    </tr>\n",
       "    <tr>\n",
       "      <th>2021-01-01</th>\n",
       "      <th>Arrival</th>\n",
       "      <th>International</th>\n",
       "      <th>Freight</th>\n",
       "      <td>82958</td>\n",
       "    </tr>\n",
       "    <tr>\n",
       "      <th>2020-11-01</th>\n",
       "      <th>Arrival</th>\n",
       "      <th>International</th>\n",
       "      <th>Freight</th>\n",
       "      <td>96096</td>\n",
       "    </tr>\n",
       "    <tr>\n",
       "      <th rowspan=\"2\" valign=\"top\">2021-04-01</th>\n",
       "      <th rowspan=\"2\" valign=\"top\">Arrival</th>\n",
       "      <th>International</th>\n",
       "      <th>Mail</th>\n",
       "      <td>921</td>\n",
       "    </tr>\n",
       "    <tr>\n",
       "      <th>Domestic</th>\n",
       "      <th>Mail</th>\n",
       "      <td>3197</td>\n",
       "    </tr>\n",
       "    <tr>\n",
       "      <th>2021-03-01</th>\n",
       "      <th>Arrival</th>\n",
       "      <th>International</th>\n",
       "      <th>Freight</th>\n",
       "      <td>100358</td>\n",
       "    </tr>\n",
       "    <tr>\n",
       "      <th>2021-04-01</th>\n",
       "      <th>Departure</th>\n",
       "      <th>Domestic</th>\n",
       "      <th>Freight</th>\n",
       "      <td>40285</td>\n",
       "    </tr>\n",
       "    <tr>\n",
       "      <th>2021-03-01</th>\n",
       "      <th>Departure</th>\n",
       "      <th>Domestic</th>\n",
       "      <th>Freight</th>\n",
       "      <td>43444</td>\n",
       "    </tr>\n",
       "    <tr>\n",
       "      <th>2021-04-01</th>\n",
       "      <th>Arrival</th>\n",
       "      <th>International</th>\n",
       "      <th>Freight</th>\n",
       "      <td>97048</td>\n",
       "    </tr>\n",
       "    <tr>\n",
       "      <th>2021-03-01</th>\n",
       "      <th>Departure</th>\n",
       "      <th>International</th>\n",
       "      <th>Freight</th>\n",
       "      <td>66254</td>\n",
       "    </tr>\n",
       "    <tr>\n",
       "      <th>2021-04-01</th>\n",
       "      <th>Departure</th>\n",
       "      <th>International</th>\n",
       "      <th>Freight</th>\n",
       "      <td>60458</td>\n",
       "    </tr>\n",
       "    <tr>\n",
       "      <th>2021-03-01</th>\n",
       "      <th>Arrival</th>\n",
       "      <th>International</th>\n",
       "      <th>Mail</th>\n",
       "      <td>913</td>\n",
       "    </tr>\n",
       "    <tr>\n",
       "      <th rowspan=\"3\" valign=\"top\">2021-04-01</th>\n",
       "      <th>Arrival</th>\n",
       "      <th>Domestic</th>\n",
       "      <th>Freight</th>\n",
       "      <td>43368</td>\n",
       "    </tr>\n",
       "    <tr>\n",
       "      <th rowspan=\"2\" valign=\"top\">Departure</th>\n",
       "      <th>International</th>\n",
       "      <th>Mail</th>\n",
       "      <td>412</td>\n",
       "    </tr>\n",
       "    <tr>\n",
       "      <th>Domestic</th>\n",
       "      <th>Mail</th>\n",
       "      <td>5468</td>\n",
       "    </tr>\n",
       "    <tr>\n",
       "      <th rowspan=\"3\" valign=\"top\">2021-03-01</th>\n",
       "      <th rowspan=\"2\" valign=\"top\">Departure</th>\n",
       "      <th>International</th>\n",
       "      <th>Mail</th>\n",
       "      <td>403</td>\n",
       "    </tr>\n",
       "    <tr>\n",
       "      <th>Domestic</th>\n",
       "      <th>Mail</th>\n",
       "      <td>5677</td>\n",
       "    </tr>\n",
       "    <tr>\n",
       "      <th>Arrival</th>\n",
       "      <th>Domestic</th>\n",
       "      <th>Freight</th>\n",
       "      <td>44001</td>\n",
       "    </tr>\n",
       "  </tbody>\n",
       "</table>\n",
       "</div>"
      ],
      "text/plain": [
       "                                                                     Tons\n",
       "Report_Period Arrival_Departure Domestic_International Cargo_Type        \n",
       "2020-09-01    Arrival           International          Freight      86595\n",
       "2021-02-01    Arrival           International          Freight      78931\n",
       "2020-08-01    Arrival           International          Freight      81369\n",
       "2021-01-01    Arrival           International          Freight      82958\n",
       "2020-11-01    Arrival           International          Freight      96096\n",
       "2021-04-01    Arrival           International          Mail           921\n",
       "                                Domestic               Mail          3197\n",
       "2021-03-01    Arrival           International          Freight     100358\n",
       "2021-04-01    Departure         Domestic               Freight      40285\n",
       "2021-03-01    Departure         Domestic               Freight      43444\n",
       "2021-04-01    Arrival           International          Freight      97048\n",
       "2021-03-01    Departure         International          Freight      66254\n",
       "2021-04-01    Departure         International          Freight      60458\n",
       "2021-03-01    Arrival           International          Mail           913\n",
       "2021-04-01    Arrival           Domestic               Freight      43368\n",
       "              Departure         International          Mail           412\n",
       "                                Domestic               Mail          5468\n",
       "2021-03-01    Departure         International          Mail           403\n",
       "                                Domestic               Mail          5677\n",
       "              Arrival           Domestic               Freight      44001"
      ]
     },
     "execution_count": 191,
     "metadata": {},
     "output_type": "execute_result"
    }
   ],
   "source": [
    "data2.head(20)"
   ]
  },
  {
   "cell_type": "code",
   "execution_count": 196,
   "metadata": {},
   "outputs": [
    {
     "data": {
      "text/html": [
       "<div>\n",
       "<style scoped>\n",
       "    .dataframe tbody tr th:only-of-type {\n",
       "        vertical-align: middle;\n",
       "    }\n",
       "\n",
       "    .dataframe tbody tr th {\n",
       "        vertical-align: top;\n",
       "    }\n",
       "\n",
       "    .dataframe thead th {\n",
       "        text-align: right;\n",
       "    }\n",
       "</style>\n",
       "<table border=\"1\" class=\"dataframe\">\n",
       "  <thead>\n",
       "    <tr style=\"text-align: right;\">\n",
       "      <th></th>\n",
       "      <th>Min_Report_Period</th>\n",
       "      <th>Min_Tons</th>\n",
       "      <th>Max_Tons</th>\n",
       "      <th>Max_Report_Period</th>\n",
       "    </tr>\n",
       "    <tr>\n",
       "      <th>Cargo_Type</th>\n",
       "      <th></th>\n",
       "      <th></th>\n",
       "      <th></th>\n",
       "      <th></th>\n",
       "    </tr>\n",
       "  </thead>\n",
       "  <tbody>\n",
       "    <tr>\n",
       "      <th>Freight</th>\n",
       "      <td>2006-01-01</td>\n",
       "      <td>20640</td>\n",
       "      <td>105462</td>\n",
       "      <td>2023-10-01</td>\n",
       "    </tr>\n",
       "    <tr>\n",
       "      <th>Mail</th>\n",
       "      <td>2006-01-01</td>\n",
       "      <td>330</td>\n",
       "      <td>9192</td>\n",
       "      <td>2023-10-01</td>\n",
       "    </tr>\n",
       "  </tbody>\n",
       "</table>\n",
       "</div>"
      ],
      "text/plain": [
       "           Min_Report_Period  Min_Tons  Max_Tons Max_Report_Period\n",
       "Cargo_Type                                                        \n",
       "Freight           2006-01-01     20640    105462        2023-10-01\n",
       "Mail              2006-01-01       330      9192        2023-10-01"
      ]
     },
     "execution_count": 196,
     "metadata": {},
     "output_type": "execute_result"
    }
   ],
   "source": [
    "import pandas as pd\n",
    "\n",
    "# Assuming your DataFrame is named cargo_df\n",
    "# You can replace it with the actual name of your DataFrame\n",
    "cargo_df[\"Report_Period\"] = pd.to_datetime(cargo_df[\"Report_Period\"])\n",
    "\n",
    "# Group by Cargo_Type and aggregate the minimum and maximum values\n",
    "cargotype = cargo_df.groupby(\"Cargo_Type\").agg({\n",
    "    \"Tons\": [\"min\", \"max\"],\n",
    "    \"Report_Period\": [\"min\", \"max\"]\n",
    "})\n",
    "\n",
    "# Flatten the multi-level columns\n",
    "cargotype.columns = [f\"{col[0]}_{col[1]}\" for col in cargotype.columns]\n",
    "\n",
    "# Reorder the columns\n",
    "cargotype = cargotype[[\"Report_Period_min\", \"Tons_min\", \"Tons_max\", \"Report_Period_max\"]]\n",
    "\n",
    "# Rename the columns for clarity\n",
    "cargotype.columns = [\n",
    "    \"Min_Report_Period\", \"Min_Tons\", \"Max_Tons\", \"Max_Report_Period\"\n",
    "]\n",
    "\n",
    "# Display the result\n",
    "cargotype"
   ]
  }
 ],
 "metadata": {
  "kernelspec": {
   "display_name": "base",
   "language": "python",
   "name": "python3"
  },
  "language_info": {
   "codemirror_mode": {
    "name": "ipython",
    "version": 3
   },
   "file_extension": ".py",
   "mimetype": "text/x-python",
   "name": "python",
   "nbconvert_exporter": "python",
   "pygments_lexer": "ipython3",
   "version": "3.11.5"
  }
 },
 "nbformat": 4,
 "nbformat_minor": 2
}
